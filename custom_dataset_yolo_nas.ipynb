{
  "nbformat": 4,
  "nbformat_minor": 0,
  "metadata": {
    "colab": {
      "provenance": [],
      "authorship_tag": "ABX9TyPWBYc7/Zq2YlRXDsRsPtEg",
      "include_colab_link": true
    },
    "kernelspec": {
      "name": "python3",
      "display_name": "Python 3"
    },
    "language_info": {
      "name": "python"
    }
  },
  "cells": [
    {
      "cell_type": "markdown",
      "metadata": {
        "id": "view-in-github",
        "colab_type": "text"
      },
      "source": [
        "<a href=\"https://colab.research.google.com/github/gyuchangShim/yolo_nas_practice/blob/main/custom_dataset_yolo_nas.ipynb\" target=\"_parent\"><img src=\"https://colab.research.google.com/assets/colab-badge.svg\" alt=\"Open In Colab\"/></a>"
      ]
    },
    {
      "cell_type": "code",
      "execution_count": null,
      "metadata": {
        "id": "PlIB7PzPzhyy"
      },
      "outputs": [],
      "source": [
        "!pip install super-gradients\n",
        "!pip install roboflow"
      ]
    },
    {
      "cell_type": "code",
      "source": [
        "from super_gradients.training import Trainer\n",
        "from super_gradients.training import dataloaders\n",
        "from super_gradients.training.dataloaders.dataloaders import (\n",
        "    coco_detection_yolo_format_train,\n",
        "    coco_detection_yolo_format_val\n",
        ")\n",
        "from super_gradients.training import models\n",
        "from super_gradients.training.losses import PPYoloELoss\n",
        "from super_gradients.training.metrics import (\n",
        "    DetectionMetrics_050,\n",
        "    DetectionMetrics_050_095\n",
        ")\n",
        "from super_gradients.training.models.detection_models.pp_yolo_e import PPYoloEPostPredictionCallback\n",
        "from tqdm.auto import tqdm\n",
        "\n",
        "import os\n",
        "import requests\n",
        "import zipfile\n",
        "import cv2\n",
        "import matplotlib.pyplot as plt\n",
        "import glob\n",
        "import numpy as np\n",
        "import random"
      ],
      "metadata": {
        "id": "HAYIZhWG00rm"
      },
      "execution_count": null,
      "outputs": []
    },
    {
      "cell_type": "code",
      "source": [
        "from roboflow import Roboflow\n",
        "rf = Roboflow(api_key=\"aIU6ug3LhFpJCcpMteMN\")\n",
        "project = rf.workspace(\"mjuaiimages\").project(\"mju_ai_week02\")\n",
        "version = project.version(1)\n",
        "dataset = version.download(\"yolov5\")"
      ],
      "metadata": {
        "id": "8hVAeod7SFTZ"
      },
      "execution_count": null,
      "outputs": []
    },
    {
      "cell_type": "code",
      "source": [
        "# dataset_setup\n",
        "ROOT_DIR = '/content/mju_ai_week02-1'\n",
        "train_imgs_dir = 'images/train'\n",
        "train_labels_dir = 'labels/train'\n",
        "val_imgs_dir = 'images/val'\n",
        "val_labels_dir = 'labels/val'\n",
        "test_imgs_dir = 'images/test'\n",
        "test_labels_dir = 'labels/test'\n",
        "classes = ['cat', 'dog']\n",
        "\n",
        "dataset_params = {\n",
        "    'data_dir': train_imgs_dir,\n",
        "    'train_images_dir': train_imgs_dir,\n",
        "    'train_labels_dir': train_labels_dir,\n",
        "    'val_images_dir': val_imgs_dir,\n",
        "    'val_labels_dir': val_labels_dir,\n",
        "    'test_images_dir': test_imgs_dir,\n",
        "    'test_labels_dir': test_labels_dir,\n",
        "    'classes': classes\n",
        "}"
      ],
      "metadata": {
        "id": "-fl9rMRtIO6H"
      },
      "execution_count": null,
      "outputs": []
    },
    {
      "cell_type": "code",
      "source": [
        "# Global parameters.\n",
        "EPOCHS = 5\n",
        "BATCH_SIZE = 16\n",
        "WORKERS = 8"
      ],
      "metadata": {
        "id": "knU2eOW0ISi9"
      },
      "execution_count": null,
      "outputs": []
    }
  ]
}