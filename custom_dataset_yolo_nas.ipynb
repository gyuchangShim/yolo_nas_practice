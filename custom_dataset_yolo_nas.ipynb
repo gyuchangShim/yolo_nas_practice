{
  "nbformat": 4,
  "nbformat_minor": 0,
  "metadata": {
    "colab": {
      "provenance": [],
      "gpuType": "T4",
      "authorship_tag": "ABX9TyN2U9pzqavoqWdlePvGsywh",
      "include_colab_link": true
    },
    "kernelspec": {
      "name": "python3",
      "display_name": "Python 3"
    },
    "language_info": {
      "name": "python"
    },
    "accelerator": "GPU"
  },
  "cells": [
    {
      "cell_type": "markdown",
      "metadata": {
        "id": "view-in-github",
        "colab_type": "text"
      },
      "source": [
        "<a href=\"https://colab.research.google.com/github/gyuchangShim/yolo_nas_practice/blob/main/custom_dataset_yolo_nas.ipynb\" target=\"_parent\"><img src=\"https://colab.research.google.com/assets/colab-badge.svg\" alt=\"Open In Colab\"/></a>"
      ]
    },
    {
      "cell_type": "code",
      "execution_count": null,
      "metadata": {
        "id": "PlIB7PzPzhyy"
      },
      "outputs": [],
      "source": [
        "!pip install super-gradients==3.5.0\n",
        "!pip install roboflow"
      ]
    },
    {
      "cell_type": "code",
      "source": [
        "import cv2\n",
        "import torch\n",
        "\n",
        "from IPython.display import clear_output\n",
        "# super-gradients에서 PPYoloELoss를 받아올 때 오류 발생(loss: ~ )\n",
        "# 그래서 super-gradients --> paddleslim.nas.loss로 변경\n",
        "from super_gradients.training.losses import PPYoloELoss\n",
        "from super_gradients.training.metrics import DetectionMetrics_050\n",
        "from super_gradients.training.models.detection_models.pp_yolo_e import PPYoloEPostPredictionCallback\n",
        "from super_gradients.training import models\n",
        "from super_gradients.training import Trainer\n",
        "from super_gradients.training import dataloaders\n",
        "from super_gradients.training.dataloaders.dataloaders import (\n",
        "    coco_detection_yolo_format_train,\n",
        "    coco_detection_yolo_format_val\n",
        ")\n",
        "\n",
        "device = torch.device(\"cuda:0\" if torch.cuda.is_available() else 'cpu')\n",
        "use_cuda = torch.cuda.is_available()\n",
        "if use_cuda:\n",
        "  print(torch.cuda.get_device_name(0))"
      ],
      "metadata": {
        "id": "HAYIZhWG00rm"
      },
      "execution_count": null,
      "outputs": []
    },
    {
      "cell_type": "code",
      "source": [
        "CHECKPOINT_DIR = 'checkpoints'\n",
        "trainer = Trainer(experiment_name='Detection_yolonas_practice', ckpt_root_dir=CHECKPOINT_DIR)"
      ],
      "metadata": {
        "id": "e5CMSje9gpr_"
      },
      "execution_count": 3,
      "outputs": []
    },
    {
      "cell_type": "code",
      "source": [
        "from roboflow import Roboflow\n",
        "rf = Roboflow(api_key=\"aIU6ug3LhFpJCcpMteMN\")\n",
        "project = rf.workspace(\"mjuaiimages\").project(\"mju_ai_week02\")\n",
        "version = project.version(1)\n",
        "dataset = version.download(\"yolov5\")"
      ],
      "metadata": {
        "id": "8hVAeod7SFTZ"
      },
      "execution_count": null,
      "outputs": []
    },
    {
      "cell_type": "code",
      "source": [
        "import gc\n",
        "gc.collect()\n",
        "torch.cuda.empty_cache()"
      ],
      "metadata": {
        "id": "ORDy3F2Tne9o"
      },
      "execution_count": null,
      "outputs": []
    },
    {
      "cell_type": "markdown",
      "source": [
        "cuda 캐시 삭제"
      ],
      "metadata": {
        "id": "f5mWUpMCnfe_"
      }
    },
    {
      "cell_type": "code",
      "source": [
        "# dataset_setup\n",
        "dataset_params = {\n",
        "    'data_dir': '/content/mju_ai_week02-1',\n",
        "    'train_images_dir': 'train/images',\n",
        "    'train_labels_dir': 'train/labels',\n",
        "    'val_images_dir': 'valid/images',\n",
        "    'val_labels_dir': 'valid/labels',\n",
        "    'test_images_dir': 'test/images',\n",
        "    'test_labels_dir': 'test/labels',\n",
        "    'classes': ['cat', 'dog']\n",
        "}"
      ],
      "metadata": {
        "id": "-fl9rMRtIO6H"
      },
      "execution_count": 5,
      "outputs": []
    },
    {
      "cell_type": "code",
      "source": [
        "train_data = coco_detection_yolo_format_train(\n",
        "    dataset_params={\n",
        "        'data_dir': dataset_params['data_dir'],\n",
        "        'images_dir': dataset_params['train_images_dir'],\n",
        "        'labels_dir': dataset_params['train_labels_dir'],\n",
        "        'classes': dataset_params['classes']\n",
        "    },\n",
        "    dataloader_params={\n",
        "      'batch_size': 16,\n",
        "      'num_workers': 2\n",
        "    }\n",
        ")\n",
        "\n",
        "val_data = coco_detection_yolo_format_val(\n",
        "    dataset_params={\n",
        "        'data_dir': dataset_params['data_dir'],\n",
        "        'images_dir': dataset_params['val_images_dir'],\n",
        "        'labels_dir': dataset_params['val_labels_dir'],\n",
        "        'classes': dataset_params['classes']\n",
        "    },\n",
        "    dataloader_params={\n",
        "      'batch_size': 16,\n",
        "      'num_workers': 2\n",
        "    }\n",
        ")\n",
        "\n",
        "test_data = coco_detection_yolo_format_val(\n",
        "    dataset_params={\n",
        "        'data_dir': dataset_params['data_dir'],\n",
        "        'images_dir': dataset_params['test_images_dir'],\n",
        "        'labels_dir': dataset_params['test_labels_dir'],\n",
        "        'classes': dataset_params['classes']\n",
        "    },\n",
        "    dataloader_params={\n",
        "      'batch_size': 16,\n",
        "      'num_workers': 2\n",
        "    }\n",
        ")\n",
        "\n",
        "clear_output()"
      ],
      "metadata": {
        "id": "PFlZI-rxW1GZ",
        "colab": {
          "base_uri": "https://localhost:8080/"
        },
        "outputId": "ed0ee7bc-5fa3-412f-caa5-6a1787f24e5f"
      },
      "execution_count": 6,
      "outputs": [
        {
          "output_type": "stream",
          "name": "stderr",
          "text": [
            "\rIndexing dataset annotations:   0%|          | 0/4 [00:00<?, ?it/s]\rIndexing dataset annotations: 100%|██████████| 4/4 [00:00<00:00, 2439.97it/s]\n"
          ]
        }
      ]
    },
    {
      "cell_type": "code",
      "source": [
        "train_data.dataset.transforms\n",
        "train_data.dataset.dataset_params['transforms'][1]\n",
        "train_data.dataset.dataset_params['transforms'][1]['DetectionRandomAffine']['degrees'] = 10.42"
      ],
      "metadata": {
        "id": "vPBYMHXoYhjP"
      },
      "execution_count": 7,
      "outputs": []
    },
    {
      "cell_type": "code",
      "source": [
        "train_data.dataset.plot()"
      ],
      "metadata": {
        "id": "gGUKfcEHYxxz"
      },
      "execution_count": null,
      "outputs": []
    },
    {
      "cell_type": "code",
      "source": [
        "model = models.get('yolo_nas_s',\n",
        "                   num_classes=len(dataset_params['classes']),\n",
        "                   pretrained_weights = \"coco\")"
      ],
      "metadata": {
        "id": "4nb-5g-9ZCGZ"
      },
      "execution_count": null,
      "outputs": []
    },
    {
      "cell_type": "markdown",
      "source": [
        "- 모델 인스턴스화: yolo-nas의 3가지 모델(l, s, m) 모두 사용 가능\n",
        "-> num_classes 인수 & pretrained_weights 추가 필요"
      ],
      "metadata": {
        "id": "MQxPaUViZRC4"
      }
    },
    {
      "cell_type": "code",
      "source": [
        "# metric_to_watch: mAP@0.50에서 error\n",
        "# mAP@0.50 인식 불가 -> why?\n",
        "train_params = {\n",
        "    'silent_mode': True,\n",
        "    \"average_best_models\": True,\n",
        "    \"warmup_mode\": \"linear_epoch_step\",\n",
        "    \"warmup_initial_lr\": 1e-6,\n",
        "    \"lr_warmup_epochs\": 3,\n",
        "    \"initial_lr\": 5e-4,\n",
        "    \"lr_mode\": \"cosine\",\n",
        "    \"cosine_final_lr_ratio\": 0.1,\n",
        "    \"optimizer\": \"Adam\",\n",
        "    \"optimizer_params\": {\"weight_decay\": 0.0001},\n",
        "    \"zero_weight_decay_on_bias_and_bn\": True,\n",
        "    \"ema\": True,\n",
        "    \"ema_params\": {\"decay\": 0.9, \"decay_type\": \"threshold\"},\n",
        "    # epoch 횟수는 수정 필요\n",
        "    \"max_epochs\": 15,\n",
        "    \"mixed_precision\": True,\n",
        "    # 손실 함수 결정\n",
        "    \"loss\": PPYoloELoss(\n",
        "        use_static_assigner=False,\n",
        "        num_classes=len(dataset_params['classes']),\n",
        "        reg_max=16\n",
        "    ),\n",
        "    \"valid_matrics_list\": [\n",
        "        DetectionMetrics_050(\n",
        "            score_thres=0.1,\n",
        "            top_k_predictions=300,\n",
        "            num_cls=len(dataset_params['classes']),\n",
        "            normalize_targets=True,\n",
        "            post_prediction_callback=PPYoloEPostPredictionCallback(\n",
        "                score_threshold=0.01,\n",
        "                nms_top_k=1000,\n",
        "                max_predictions=300,\n",
        "                nms_threshold=0.7\n",
        "            )\n",
        "        )\n",
        "    ],\n",
        "    \"metric_to_watch\": 'mAP@0.50'\n",
        "}"
      ],
      "metadata": {
        "id": "0zi_iDIyZj5M"
      },
      "execution_count": 9,
      "outputs": []
    },
    {
      "cell_type": "code",
      "source": [
        "train_params = { # 모델에 다양한 학습 변수가 포함된 Python dictionary\n",
        "    \"average_best_models\": True, # True로 설정하면 학습중에 가장 좋은 모델의 평균을 사용하여 최종 모델을 생성\n",
        "    \"warmup_mode\": \"linear_epoch_step\", # linear_epoch_step으로 설정하면 학습률을 선형적으로 증가시킨다.\n",
        "    \"warmup_initial_lr\": 1e-6, # 합습률을 le-6 으로 설정, (0.000001)\n",
        "    \"lr_warmup_epochs\": 3, # 학습률을 3에폭동안 증가.\n",
        "    \"initial_lr\": 5e-4, # 학습률을 5e-4로 시작한다. (0.0005)\n",
        "    \"lr_mode\": \"cosine\",# 학습률을 코사인 함수로 감소시킨다.\n",
        "    \"cosine_final_lr_ratio\": 0.1, # 0.1로 설정하면 최종 학습률의 0.1로 감소시킨다.\n",
        "    \"optimizer\": \"AdamW\",# 모델이 실제 결과와 예측 결과의 차이를 최소화 시키는 알고리즘(즉, 사용하려는 손실함수)을 AdamW로 사용\n",
        "    \"optimizer_params\": {\"weight_decay\": 0.0001}, # 가중치 감소를 0.0001로 설정 (weight decay : 모델의 가중치가 너무 커지는 것을 방지하는 규제 기법)\n",
        "    \"zero_weight_decay_on_bias_and_bn\": True, # True로 설정하면 바이어스 및 배치 정규화에 가중치 감소를 적용하지 않는다.\n",
        "    \"ema\": True, # True로 설정하면 지수 이동 평균 (EMA)를 사용한다.\n",
        "    \"ema_params\": {\"decay\": 0.9, \"decay_type\": \"threshold\"},# EMA 감소율을 0.9로 설정하고 감소 유형을 \"threshold\"로 설정.\n",
        "    \"max_epochs\": 10, # 10으로 설정하면 최대 에폭수를 10으로 설정한다.\n",
        "    \"mixed_precision\": True, # True로 설정하면 혼합 정밀도를 사용\n",
        "\n",
        "    \"loss\": PPYoloELoss(\n",
        "        use_static_assigner=False, # 정적 할당자 또는 작업 할당 할당자 사용 여부\n",
        "        num_classes=len(dataset_params['classes']), # 모델이 감지할 수 있는 클래스 수를 지정\n",
        "        reg_max=16\n",
        "    ),\n",
        "    \"valid_metrics_list\": [ # DetectionMetrics_050를 사용하여 검증 지표 목록을 설정\n",
        "\n",
        "        DetectionMetrics_050(\n",
        "            score_thres=0.1, # 검출에 사용되는 최소 점수를 지정, 해당 변수를 높이면 더 정확한 검출을 얻을 수 있지만 검출되는 양이 더 적어질 수 있다.\n",
        "            top_k_predictions=300, # 각 이미지에 대해 예측할 최대 개수를 지정\n",
        "            num_cls=len(dataset_params['classes']), # 모델이 감지할 수 있는 클래스 수를 지정\n",
        "            normalize_targets=True, # 타겟을 정규화할지 여부를 지정\n",
        "\n",
        "            post_prediction_callback=PPYoloEPostPredictionCallback( # 검출을 조정하는데 사용되는 콜백 함수\n",
        "\n",
        "                score_threshold=0.01, # 최종 검출에 사용되는 최소 점수를 지정.\n",
        "                nms_top_k=1000, # Non-Maximum Suppression(NMS) 알고리즘에서 고려할 상위 k개 박스를 지정, (상위 1000개의 박스를 고려)\n",
        "                max_predictions=300, # 최종 검출에 사용되는 최대 개수를 지정\n",
        "                nms_threshold=0.7 #  NMS 알고리즘에서 사용할 IoU(Intersection over Union) 임계값을 지정\n",
        "\n",
        "            )\n",
        "        )\n",
        "    ],\n",
        "\n",
        "    \"metric_to_watch\": 'mAP@0.50'\n",
        "}"
      ],
      "metadata": {
        "id": "I-Y8Kxe33Bef"
      },
      "execution_count": 12,
      "outputs": []
    },
    {
      "cell_type": "code",
      "source": [
        "trainer.train(model=model,\n",
        "              training_params=train_params,\n",
        "              train_loader=train_data,\n",
        "              valid_loader=val_data)"
      ],
      "metadata": {
        "colab": {
          "base_uri": "https://localhost:8080/"
        },
        "id": "1_CVROE0gYi3",
        "outputId": "57f68d4b-06b3-4b9c-b93e-388b629b4985"
      },
      "execution_count": 13,
      "outputs": [
        {
          "output_type": "stream",
          "name": "stderr",
          "text": [
            "[2024-03-30 10:17:12] INFO - sg_trainer.py - Starting a new run with `run_id=RUN_20240330_101712_634031`\n",
            "[2024-03-30 10:17:12] INFO - sg_trainer.py - Checkpoints directory: checkpoints/Detection_yolonas_practice/RUN_20240330_101712_634031\n",
            "[2024-03-30 10:17:12] INFO - sg_trainer.py - Using EMA with params {'decay': 0.9, 'decay_type': 'threshold'}\n",
            "Object name `linear_epoch_step` is now deprecated. Please replace it with `LinearEpochLRWarmup`.\n",
            "initialize_param_groups and update_param_groups usages are deprecated since 3.4.0, will be removed in 3.5.0 and have no effect. \n",
            " Assign different learning rates by passing a mapping of layer name prefixes to lr values through initial_lr training hyperparameter (i.e initial_lr={'backbone': 0.01, 'default':0.1})\n"
          ]
        },
        {
          "output_type": "stream",
          "name": "stdout",
          "text": [
            "The console stream is now moved to checkpoints/Detection_yolonas_practice/RUN_20240330_101712_634031/console_Mar30_10_17_12.txt\n"
          ]
        },
        {
          "output_type": "stream",
          "name": "stderr",
          "text": [
            "[2024-03-30 10:17:17] INFO - sg_trainer_utils.py - TRAINING PARAMETERS:\n",
            "    - Mode:                         Single GPU\n",
            "    - Number of GPUs:               1          (1 available on the machine)\n",
            "    - Full dataset size:            81         (len(train_set))\n",
            "    - Batch size per GPU:           16         (batch_size)\n",
            "    - Batch Accumulate:             1          (batch_accumulate)\n",
            "    - Total batch size:             16         (num_gpus * batch_size)\n",
            "    - Effective Batch size:         16         (num_gpus * batch_size * batch_accumulate)\n",
            "    - Iterations per epoch:         5          (len(train_loader))\n",
            "    - Gradient updates per epoch:   5          (len(train_loader) / batch_accumulate)\n",
            "    - Model: YoloNAS_S  (19.02M parameters, 19.02M optimized)\n",
            "    - Learning Rates and Weight Decays:\n",
            "      - default: (19.02M parameters). LR: 0.0005 (19.02M parameters) WD: 0.0, (42.13K parameters), WD: 0.0001, (18.98M parameters)\n",
            "\n",
            "[2024-03-30 10:17:17] INFO - sg_trainer.py - Started training for 10 epochs (0/9)\n",
            "\n",
            "Train epoch 0: 100%|██████████| 5/5 [00:07<00:00,  1.41s/it, PPYoloELoss/loss=3.75, PPYoloELoss/loss_cls=2.29, PPYoloELoss/loss_dfl=0.818, PPYoloELoss/loss_iou=0.642, gpu_mem=10.6]\n",
            "Validating: 100%|██████████| 1/1 [00:00<00:00,  1.41it/s]\n",
            "[2024-03-30 10:17:26] INFO - base_sg_logger.py - Checkpoint saved in checkpoints/Detection_yolonas_practice/RUN_20240330_101712_634031/ckpt_best.pth\n",
            "[2024-03-30 10:17:26] INFO - sg_trainer.py - Best checkpoint overriden: validation mAP@0.50: 0.07279922813177109\n"
          ]
        },
        {
          "output_type": "stream",
          "name": "stdout",
          "text": [
            "===========================================================\n",
            "SUMMARY OF EPOCH 0\n",
            "├── Train\n",
            "│   ├── Ppyoloeloss/loss_cls = 2.2874\n",
            "│   ├── Ppyoloeloss/loss_iou = 0.6423\n",
            "│   ├── Ppyoloeloss/loss_dfl = 0.8177\n",
            "│   └── Ppyoloeloss/loss = 3.7473\n",
            "└── Validation\n",
            "    ├── Ppyoloeloss/loss_cls = 2.4984\n",
            "    ├── Ppyoloeloss/loss_iou = 0.5014\n",
            "    ├── Ppyoloeloss/loss_dfl = 0.74\n",
            "    ├── Ppyoloeloss/loss = 3.7399\n",
            "    ├── Precision@0.50 = 0.0\n",
            "    ├── Recall@0.50 = 0.0\n",
            "    ├── Map@0.50 = 0.0728\n",
            "    └── F1@0.50 = 0.0\n",
            "\n",
            "===========================================================\n"
          ]
        },
        {
          "output_type": "stream",
          "name": "stderr",
          "text": [
            "Train epoch 1: 100%|██████████| 5/5 [00:06<00:00,  1.36s/it, PPYoloELoss/loss=3.41, PPYoloELoss/loss_cls=1.97, PPYoloELoss/loss_dfl=0.818, PPYoloELoss/loss_iou=0.625, gpu_mem=10.6]\n",
            "Validating epoch 1: 100%|██████████| 1/1 [00:00<00:00,  2.10it/s]\n",
            "[2024-03-30 10:17:36] INFO - base_sg_logger.py - Checkpoint saved in checkpoints/Detection_yolonas_practice/RUN_20240330_101712_634031/ckpt_best.pth\n",
            "[2024-03-30 10:17:36] INFO - sg_trainer.py - Best checkpoint overriden: validation mAP@0.50: 0.3995339870452881\n"
          ]
        },
        {
          "output_type": "stream",
          "name": "stdout",
          "text": [
            "===========================================================\n",
            "SUMMARY OF EPOCH 1\n",
            "├── Train\n",
            "│   ├── Ppyoloeloss/loss_cls = 1.9695\n",
            "│   │   ├── Epoch N-1      = 2.2874 (\u001b[32m↘ -0.3179\u001b[0m)\n",
            "│   │   └── Best until now = 2.2874 (\u001b[32m↘ -0.3179\u001b[0m)\n",
            "│   ├── Ppyoloeloss/loss_iou = 0.6246\n",
            "│   │   ├── Epoch N-1      = 0.6423 (\u001b[32m↘ -0.0177\u001b[0m)\n",
            "│   │   └── Best until now = 0.6423 (\u001b[32m↘ -0.0177\u001b[0m)\n",
            "│   ├── Ppyoloeloss/loss_dfl = 0.8182\n",
            "│   │   ├── Epoch N-1      = 0.8177 (\u001b[31m↗ 0.0006\u001b[0m)\n",
            "│   │   └── Best until now = 0.8177 (\u001b[31m↗ 0.0006\u001b[0m)\n",
            "│   └── Ppyoloeloss/loss = 3.4123\n",
            "│       ├── Epoch N-1      = 3.7473 (\u001b[32m↘ -0.3351\u001b[0m)\n",
            "│       └── Best until now = 3.7473 (\u001b[32m↘ -0.3351\u001b[0m)\n",
            "└── Validation\n",
            "    ├── Ppyoloeloss/loss_cls = 2.0442\n",
            "    │   ├── Epoch N-1      = 2.4984 (\u001b[32m↘ -0.4543\u001b[0m)\n",
            "    │   └── Best until now = 2.4984 (\u001b[32m↘ -0.4543\u001b[0m)\n",
            "    ├── Ppyoloeloss/loss_iou = 0.7187\n",
            "    │   ├── Epoch N-1      = 0.5014 (\u001b[31m↗ 0.2172\u001b[0m)\n",
            "    │   └── Best until now = 0.5014 (\u001b[31m↗ 0.2172\u001b[0m)\n",
            "    ├── Ppyoloeloss/loss_dfl = 1.0121\n",
            "    │   ├── Epoch N-1      = 0.74   (\u001b[31m↗ 0.2721\u001b[0m)\n",
            "    │   └── Best until now = 0.74   (\u001b[31m↗ 0.2721\u001b[0m)\n",
            "    ├── Ppyoloeloss/loss = 3.775\n",
            "    │   ├── Epoch N-1      = 3.7399 (\u001b[31m↗ 0.035\u001b[0m)\n",
            "    │   └── Best until now = 3.7399 (\u001b[31m↗ 0.035\u001b[0m)\n",
            "    ├── Precision@0.50 = 0.2602\n",
            "    │   ├── Epoch N-1      = 0.0    (\u001b[32m↗ 0.2602\u001b[0m)\n",
            "    │   └── Best until now = 0.0    (\u001b[32m↗ 0.2602\u001b[0m)\n",
            "    ├── Recall@0.50 = 0.3125\n",
            "    │   ├── Epoch N-1      = 0.0    (\u001b[32m↗ 0.3125\u001b[0m)\n",
            "    │   └── Best until now = 0.0    (\u001b[32m↗ 0.3125\u001b[0m)\n",
            "    ├── Map@0.50 = 0.3995\n",
            "    │   ├── Epoch N-1      = 0.0728 (\u001b[32m↗ 0.3267\u001b[0m)\n",
            "    │   └── Best until now = 0.0728 (\u001b[32m↗ 0.3267\u001b[0m)\n",
            "    └── F1@0.50 = 0.1196\n",
            "        ├── Epoch N-1      = 0.0    (\u001b[32m↗ 0.1196\u001b[0m)\n",
            "        └── Best until now = 0.0    (\u001b[32m↗ 0.1196\u001b[0m)\n",
            "\n",
            "===========================================================\n"
          ]
        },
        {
          "output_type": "stream",
          "name": "stderr",
          "text": [
            "Train epoch 2: 100%|██████████| 5/5 [00:06<00:00,  1.27s/it, PPYoloELoss/loss=3, PPYoloELoss/loss_cls=1.47, PPYoloELoss/loss_dfl=0.874, PPYoloELoss/loss_iou=0.655, gpu_mem=10.7]\n",
            "Validating epoch 2: 100%|██████████| 1/1 [00:00<00:00,  1.52it/s]\n"
          ]
        },
        {
          "output_type": "stream",
          "name": "stdout",
          "text": [
            "===========================================================\n",
            "SUMMARY OF EPOCH 2\n",
            "├── Train\n",
            "│   ├── Ppyoloeloss/loss_cls = 1.4688\n",
            "│   │   ├── Epoch N-1      = 1.9695 (\u001b[32m↘ -0.5007\u001b[0m)\n",
            "│   │   └── Best until now = 1.9695 (\u001b[32m↘ -0.5007\u001b[0m)\n",
            "│   ├── Ppyoloeloss/loss_iou = 0.655\n",
            "│   │   ├── Epoch N-1      = 0.6246 (\u001b[31m↗ 0.0304\u001b[0m)\n",
            "│   │   └── Best until now = 0.6246 (\u001b[31m↗ 0.0304\u001b[0m)\n",
            "│   ├── Ppyoloeloss/loss_dfl = 0.874\n",
            "│   │   ├── Epoch N-1      = 0.8182 (\u001b[31m↗ 0.0558\u001b[0m)\n",
            "│   │   └── Best until now = 0.8177 (\u001b[31m↗ 0.0563\u001b[0m)\n",
            "│   └── Ppyoloeloss/loss = 2.9978\n",
            "│       ├── Epoch N-1      = 3.4123 (\u001b[32m↘ -0.4145\u001b[0m)\n",
            "│       └── Best until now = 3.4123 (\u001b[32m↘ -0.4145\u001b[0m)\n",
            "└── Validation\n",
            "    ├── Ppyoloeloss/loss_cls = 1.25\n",
            "    │   ├── Epoch N-1      = 2.0442 (\u001b[32m↘ -0.7942\u001b[0m)\n",
            "    │   └── Best until now = 2.0442 (\u001b[32m↘ -0.7942\u001b[0m)\n",
            "    ├── Ppyoloeloss/loss_iou = 1.1984\n",
            "    │   ├── Epoch N-1      = 0.7187 (\u001b[31m↗ 0.4797\u001b[0m)\n",
            "    │   └── Best until now = 0.5014 (\u001b[31m↗ 0.6969\u001b[0m)\n",
            "    ├── Ppyoloeloss/loss_dfl = 1.2196\n",
            "    │   ├── Epoch N-1      = 1.0121 (\u001b[31m↗ 0.2075\u001b[0m)\n",
            "    │   └── Best until now = 0.74   (\u001b[31m↗ 0.4796\u001b[0m)\n",
            "    ├── Ppyoloeloss/loss = 3.6679\n",
            "    │   ├── Epoch N-1      = 3.775  (\u001b[32m↘ -0.107\u001b[0m)\n",
            "    │   └── Best until now = 3.7399 (\u001b[32m↘ -0.072\u001b[0m)\n",
            "    ├── Precision@0.50 = 0.25\n",
            "    │   ├── Epoch N-1      = 0.2602 (\u001b[31m↘ -0.0102\u001b[0m)\n",
            "    │   └── Best until now = 0.2602 (\u001b[31m↘ -0.0102\u001b[0m)\n",
            "    ├── Recall@0.50 = 0.0625\n",
            "    │   ├── Epoch N-1      = 0.3125 (\u001b[31m↘ -0.25\u001b[0m)\n",
            "    │   └── Best until now = 0.3125 (\u001b[31m↘ -0.25\u001b[0m)\n",
            "    ├── Map@0.50 = 0.0979\n",
            "    │   ├── Epoch N-1      = 0.3995 (\u001b[31m↘ -0.3016\u001b[0m)\n",
            "    │   └── Best until now = 0.3995 (\u001b[31m↘ -0.3016\u001b[0m)\n",
            "    └── F1@0.50 = 0.1\n",
            "        ├── Epoch N-1      = 0.1196 (\u001b[31m↘ -0.0196\u001b[0m)\n",
            "        └── Best until now = 0.1196 (\u001b[31m↘ -0.0196\u001b[0m)\n",
            "\n",
            "===========================================================\n"
          ]
        },
        {
          "output_type": "stream",
          "name": "stderr",
          "text": [
            "Train epoch 3: 100%|██████████| 5/5 [00:06<00:00,  1.32s/it, PPYoloELoss/loss=2.92, PPYoloELoss/loss_cls=1.34, PPYoloELoss/loss_dfl=0.896, PPYoloELoss/loss_iou=0.683, gpu_mem=5.96]\n",
            "Validating epoch 3: 100%|██████████| 1/1 [00:00<00:00,  1.85it/s]\n"
          ]
        },
        {
          "output_type": "stream",
          "name": "stdout",
          "text": [
            "===========================================================\n",
            "SUMMARY OF EPOCH 3\n",
            "├── Train\n",
            "│   ├── Ppyoloeloss/loss_cls = 1.3376\n",
            "│   │   ├── Epoch N-1      = 1.4688 (\u001b[32m↘ -0.1312\u001b[0m)\n",
            "│   │   └── Best until now = 1.4688 (\u001b[32m↘ -0.1312\u001b[0m)\n",
            "│   ├── Ppyoloeloss/loss_iou = 0.6831\n",
            "│   │   ├── Epoch N-1      = 0.655  (\u001b[31m↗ 0.0281\u001b[0m)\n",
            "│   │   └── Best until now = 0.6246 (\u001b[31m↗ 0.0585\u001b[0m)\n",
            "│   ├── Ppyoloeloss/loss_dfl = 0.8963\n",
            "│   │   ├── Epoch N-1      = 0.874  (\u001b[31m↗ 0.0223\u001b[0m)\n",
            "│   │   └── Best until now = 0.8177 (\u001b[31m↗ 0.0787\u001b[0m)\n",
            "│   └── Ppyoloeloss/loss = 2.917\n",
            "│       ├── Epoch N-1      = 2.9978 (\u001b[32m↘ -0.0808\u001b[0m)\n",
            "│       └── Best until now = 2.9978 (\u001b[32m↘ -0.0808\u001b[0m)\n",
            "└── Validation\n",
            "    ├── Ppyoloeloss/loss_cls = 0.9358\n",
            "    │   ├── Epoch N-1      = 1.25   (\u001b[32m↘ -0.3142\u001b[0m)\n",
            "    │   └── Best until now = 1.25   (\u001b[32m↘ -0.3142\u001b[0m)\n",
            "    ├── Ppyoloeloss/loss_iou = 1.9034\n",
            "    │   ├── Epoch N-1      = 1.1984 (\u001b[31m↗ 0.705\u001b[0m)\n",
            "    │   └── Best until now = 0.5014 (\u001b[31m↗ 1.4019\u001b[0m)\n",
            "    ├── Ppyoloeloss/loss_dfl = 1.9204\n",
            "    │   ├── Epoch N-1      = 1.2196 (\u001b[31m↗ 0.7008\u001b[0m)\n",
            "    │   └── Best until now = 0.74   (\u001b[31m↗ 1.1804\u001b[0m)\n",
            "    ├── Ppyoloeloss/loss = 4.7596\n",
            "    │   ├── Epoch N-1      = 3.6679 (\u001b[31m↗ 1.0917\u001b[0m)\n",
            "    │   └── Best until now = 3.6679 (\u001b[31m↗ 1.0917\u001b[0m)\n",
            "    ├── Precision@0.50 = 0.0\n",
            "    │   ├── Epoch N-1      = 0.25   (\u001b[31m↘ -0.25\u001b[0m)\n",
            "    │   └── Best until now = 0.2602 (\u001b[31m↘ -0.2602\u001b[0m)\n",
            "    ├── Recall@0.50 = 0.0\n",
            "    │   ├── Epoch N-1      = 0.0625 (\u001b[31m↘ -0.0625\u001b[0m)\n",
            "    │   └── Best until now = 0.3125 (\u001b[31m↘ -0.3125\u001b[0m)\n",
            "    ├── Map@0.50 = 0.0\n",
            "    │   ├── Epoch N-1      = 0.0979 (\u001b[31m↘ -0.0979\u001b[0m)\n",
            "    │   └── Best until now = 0.3995 (\u001b[31m↘ -0.3995\u001b[0m)\n",
            "    └── F1@0.50 = 0.0\n",
            "        ├── Epoch N-1      = 0.1    (\u001b[31m↘ -0.1\u001b[0m)\n",
            "        └── Best until now = 0.1196 (\u001b[31m↘ -0.1196\u001b[0m)\n",
            "\n",
            "===========================================================\n"
          ]
        },
        {
          "output_type": "stream",
          "name": "stderr",
          "text": [
            "Train epoch 4: 100%|██████████| 5/5 [00:06<00:00,  1.33s/it, PPYoloELoss/loss=2.87, PPYoloELoss/loss_cls=1.31, PPYoloELoss/loss_dfl=0.888, PPYoloELoss/loss_iou=0.671, gpu_mem=5.95]\n",
            "Validating epoch 4: 100%|██████████| 1/1 [00:00<00:00,  1.71it/s]\n"
          ]
        },
        {
          "output_type": "stream",
          "name": "stdout",
          "text": [
            "===========================================================\n",
            "SUMMARY OF EPOCH 4\n",
            "├── Train\n",
            "│   ├── Ppyoloeloss/loss_cls = 1.3122\n",
            "│   │   ├── Epoch N-1      = 1.3376 (\u001b[32m↘ -0.0253\u001b[0m)\n",
            "│   │   └── Best until now = 1.3376 (\u001b[32m↘ -0.0253\u001b[0m)\n",
            "│   ├── Ppyoloeloss/loss_iou = 0.6707\n",
            "│   │   ├── Epoch N-1      = 0.6831 (\u001b[32m↘ -0.0124\u001b[0m)\n",
            "│   │   └── Best until now = 0.6246 (\u001b[31m↗ 0.0461\u001b[0m)\n",
            "│   ├── Ppyoloeloss/loss_dfl = 0.8877\n",
            "│   │   ├── Epoch N-1      = 0.8963 (\u001b[32m↘ -0.0086\u001b[0m)\n",
            "│   │   └── Best until now = 0.8177 (\u001b[31m↗ 0.0701\u001b[0m)\n",
            "│   └── Ppyoloeloss/loss = 2.8706\n",
            "│       ├── Epoch N-1      = 2.917  (\u001b[32m↘ -0.0464\u001b[0m)\n",
            "│       └── Best until now = 2.917  (\u001b[32m↘ -0.0464\u001b[0m)\n",
            "└── Validation\n",
            "    ├── Ppyoloeloss/loss_cls = 2.9545\n",
            "    │   ├── Epoch N-1      = 0.9358 (\u001b[31m↗ 2.0186\u001b[0m)\n",
            "    │   └── Best until now = 0.9358 (\u001b[31m↗ 2.0186\u001b[0m)\n",
            "    ├── Ppyoloeloss/loss_iou = 1.929\n",
            "    │   ├── Epoch N-1      = 1.9034 (\u001b[31m↗ 0.0256\u001b[0m)\n",
            "    │   └── Best until now = 0.5014 (\u001b[31m↗ 1.4275\u001b[0m)\n",
            "    ├── Ppyoloeloss/loss_dfl = 2.7772\n",
            "    │   ├── Epoch N-1      = 1.9204 (\u001b[31m↗ 0.8568\u001b[0m)\n",
            "    │   └── Best until now = 0.74   (\u001b[31m↗ 2.0372\u001b[0m)\n",
            "    ├── Ppyoloeloss/loss = 7.6607\n",
            "    │   ├── Epoch N-1      = 4.7596 (\u001b[31m↗ 2.9011\u001b[0m)\n",
            "    │   └── Best until now = 3.6679 (\u001b[31m↗ 3.9928\u001b[0m)\n",
            "    ├── Precision@0.50 = 0.0\n",
            "    │   ├── Epoch N-1      = 0.0    (\u001b[37m= 0.0\u001b[0m)\n",
            "    │   └── Best until now = 0.2602 (\u001b[31m↘ -0.2602\u001b[0m)\n",
            "    ├── Recall@0.50 = 0.0\n",
            "    │   ├── Epoch N-1      = 0.0    (\u001b[37m= 0.0\u001b[0m)\n",
            "    │   └── Best until now = 0.3125 (\u001b[31m↘ -0.3125\u001b[0m)\n",
            "    ├── Map@0.50 = 0.0\n",
            "    │   ├── Epoch N-1      = 0.0    (\u001b[37m= 0.0\u001b[0m)\n",
            "    │   └── Best until now = 0.3995 (\u001b[31m↘ -0.3995\u001b[0m)\n",
            "    └── F1@0.50 = 0.0\n",
            "        ├── Epoch N-1      = 0.0    (\u001b[37m= 0.0\u001b[0m)\n",
            "        └── Best until now = 0.1196 (\u001b[31m↘ -0.1196\u001b[0m)\n",
            "\n",
            "===========================================================\n"
          ]
        },
        {
          "output_type": "stream",
          "name": "stderr",
          "text": [
            "Train epoch 5: 100%|██████████| 5/5 [00:09<00:00,  1.99s/it, PPYoloELoss/loss=2.82, PPYoloELoss/loss_cls=1.27, PPYoloELoss/loss_dfl=0.881, PPYoloELoss/loss_iou=0.668, gpu_mem=5.95]\n",
            "Validating epoch 5: 100%|██████████| 1/1 [00:00<00:00,  1.44it/s]\n"
          ]
        },
        {
          "output_type": "stream",
          "name": "stdout",
          "text": [
            "===========================================================\n",
            "SUMMARY OF EPOCH 5\n",
            "├── Train\n",
            "│   ├── Ppyoloeloss/loss_cls = 1.2741\n",
            "│   │   ├── Epoch N-1      = 1.3122 (\u001b[32m↘ -0.0382\u001b[0m)\n",
            "│   │   └── Best until now = 1.3122 (\u001b[32m↘ -0.0382\u001b[0m)\n",
            "│   ├── Ppyoloeloss/loss_iou = 0.6679\n",
            "│   │   ├── Epoch N-1      = 0.6707 (\u001b[32m↘ -0.0027\u001b[0m)\n",
            "│   │   └── Best until now = 0.6246 (\u001b[31m↗ 0.0434\u001b[0m)\n",
            "│   ├── Ppyoloeloss/loss_dfl = 0.8814\n",
            "│   │   ├── Epoch N-1      = 0.8877 (\u001b[32m↘ -0.0064\u001b[0m)\n",
            "│   │   └── Best until now = 0.8177 (\u001b[31m↗ 0.0637\u001b[0m)\n",
            "│   └── Ppyoloeloss/loss = 2.8234\n",
            "│       ├── Epoch N-1      = 2.8706 (\u001b[32m↘ -0.0473\u001b[0m)\n",
            "│       └── Best until now = 2.8706 (\u001b[32m↘ -0.0473\u001b[0m)\n",
            "└── Validation\n",
            "    ├── Ppyoloeloss/loss_cls = 2.361\n",
            "    │   ├── Epoch N-1      = 2.9545 (\u001b[32m↘ -0.5935\u001b[0m)\n",
            "    │   └── Best until now = 0.9358 (\u001b[31m↗ 1.4252\u001b[0m)\n",
            "    ├── Ppyoloeloss/loss_iou = 1.5613\n",
            "    │   ├── Epoch N-1      = 1.929  (\u001b[32m↘ -0.3677\u001b[0m)\n",
            "    │   └── Best until now = 0.5014 (\u001b[31m↗ 1.0599\u001b[0m)\n",
            "    ├── Ppyoloeloss/loss_dfl = 3.2242\n",
            "    │   ├── Epoch N-1      = 2.7772 (\u001b[31m↗ 0.447\u001b[0m)\n",
            "    │   └── Best until now = 0.74   (\u001b[31m↗ 2.4842\u001b[0m)\n",
            "    ├── Ppyoloeloss/loss = 7.1465\n",
            "    │   ├── Epoch N-1      = 7.6607 (\u001b[32m↘ -0.5142\u001b[0m)\n",
            "    │   └── Best until now = 3.6679 (\u001b[31m↗ 3.4786\u001b[0m)\n",
            "    ├── Precision@0.50 = 0.0012\n",
            "    │   ├── Epoch N-1      = 0.0    (\u001b[32m↗ 0.0012\u001b[0m)\n",
            "    │   └── Best until now = 0.2602 (\u001b[31m↘ -0.259\u001b[0m)\n",
            "    ├── Recall@0.50 = 0.0625\n",
            "    │   ├── Epoch N-1      = 0.0    (\u001b[32m↗ 0.0625\u001b[0m)\n",
            "    │   └── Best until now = 0.3125 (\u001b[31m↘ -0.25\u001b[0m)\n",
            "    ├── Map@0.50 = 0.0644\n",
            "    │   ├── Epoch N-1      = 0.0    (\u001b[32m↗ 0.0644\u001b[0m)\n",
            "    │   └── Best until now = 0.3995 (\u001b[31m↘ -0.3352\u001b[0m)\n",
            "    └── F1@0.50 = 0.0023\n",
            "        ├── Epoch N-1      = 0.0    (\u001b[32m↗ 0.0023\u001b[0m)\n",
            "        └── Best until now = 0.1196 (\u001b[31m↘ -0.1173\u001b[0m)\n",
            "\n",
            "===========================================================\n"
          ]
        },
        {
          "output_type": "stream",
          "name": "stderr",
          "text": [
            "Train epoch 6: 100%|██████████| 5/5 [00:06<00:00,  1.30s/it, PPYoloELoss/loss=2.82, PPYoloELoss/loss_cls=1.3, PPYoloELoss/loss_dfl=0.861, PPYoloELoss/loss_iou=0.661, gpu_mem=5.95]\n",
            "Validating epoch 6: 100%|██████████| 1/1 [00:00<00:00,  1.49it/s]\n"
          ]
        },
        {
          "output_type": "stream",
          "name": "stdout",
          "text": [
            "===========================================================\n",
            "SUMMARY OF EPOCH 6\n",
            "├── Train\n",
            "│   ├── Ppyoloeloss/loss_cls = 1.2968\n",
            "│   │   ├── Epoch N-1      = 1.2741 (\u001b[31m↗ 0.0227\u001b[0m)\n",
            "│   │   └── Best until now = 1.2741 (\u001b[31m↗ 0.0227\u001b[0m)\n",
            "│   ├── Ppyoloeloss/loss_iou = 0.6608\n",
            "│   │   ├── Epoch N-1      = 0.6679 (\u001b[32m↘ -0.0071\u001b[0m)\n",
            "│   │   └── Best until now = 0.6246 (\u001b[31m↗ 0.0363\u001b[0m)\n",
            "│   ├── Ppyoloeloss/loss_dfl = 0.8612\n",
            "│   │   ├── Epoch N-1      = 0.8814 (\u001b[32m↘ -0.0201\u001b[0m)\n",
            "│   │   └── Best until now = 0.8177 (\u001b[31m↗ 0.0436\u001b[0m)\n",
            "│   └── Ppyoloeloss/loss = 2.8189\n",
            "│       ├── Epoch N-1      = 2.8234 (\u001b[32m↘ -0.0045\u001b[0m)\n",
            "│       └── Best until now = 2.8234 (\u001b[32m↘ -0.0045\u001b[0m)\n",
            "└── Validation\n",
            "    ├── Ppyoloeloss/loss_cls = 203.9606\n",
            "    │   ├── Epoch N-1      = 2.361  (\u001b[31m↗ 201.5996\u001b[0m)\n",
            "    │   └── Best until now = 0.9358 (\u001b[31m↗ 203.0247\u001b[0m)\n",
            "    ├── Ppyoloeloss/loss_iou = 1.782\n",
            "    │   ├── Epoch N-1      = 1.5613 (\u001b[31m↗ 0.2207\u001b[0m)\n",
            "    │   └── Best until now = 0.5014 (\u001b[31m↗ 1.2806\u001b[0m)\n",
            "    ├── Ppyoloeloss/loss_dfl = 7.2311\n",
            "    │   ├── Epoch N-1      = 3.2242 (\u001b[31m↗ 4.0069\u001b[0m)\n",
            "    │   └── Best until now = 0.74   (\u001b[31m↗ 6.4911\u001b[0m)\n",
            "    ├── Ppyoloeloss/loss = 212.9737\n",
            "    │   ├── Epoch N-1      = 7.1465 (\u001b[31m↗ 205.8272\u001b[0m)\n",
            "    │   └── Best until now = 3.6679 (\u001b[31m↗ 209.3058\u001b[0m)\n",
            "    ├── Precision@0.50 = 0.0011\n",
            "    │   ├── Epoch N-1      = 0.0012 (\u001b[31m↘ -0.0001\u001b[0m)\n",
            "    │   └── Best until now = 0.2602 (\u001b[31m↘ -0.2591\u001b[0m)\n",
            "    ├── Recall@0.50 = 0.125\n",
            "    │   ├── Epoch N-1      = 0.0625 (\u001b[32m↗ 0.0625\u001b[0m)\n",
            "    │   └── Best until now = 0.3125 (\u001b[31m↘ -0.1875\u001b[0m)\n",
            "    ├── Map@0.50 = 0.0008\n",
            "    │   ├── Epoch N-1      = 0.0644 (\u001b[31m↘ -0.0636\u001b[0m)\n",
            "    │   └── Best until now = 0.3995 (\u001b[31m↘ -0.3988\u001b[0m)\n",
            "    └── F1@0.50 = 0.0022\n",
            "        ├── Epoch N-1      = 0.0023 (\u001b[31m↘ -0.0001\u001b[0m)\n",
            "        └── Best until now = 0.1196 (\u001b[31m↘ -0.1174\u001b[0m)\n",
            "\n",
            "===========================================================\n"
          ]
        },
        {
          "output_type": "stream",
          "name": "stderr",
          "text": [
            "Train epoch 7: 100%|██████████| 5/5 [00:06<00:00,  1.38s/it, PPYoloELoss/loss=2.88, PPYoloELoss/loss_cls=1.29, PPYoloELoss/loss_dfl=0.897, PPYoloELoss/loss_iou=0.693, gpu_mem=5.95]\n",
            "Validating epoch 7: 100%|██████████| 1/1 [00:01<00:00,  1.72s/it]\n"
          ]
        },
        {
          "output_type": "stream",
          "name": "stdout",
          "text": [
            "===========================================================\n",
            "SUMMARY OF EPOCH 7\n",
            "├── Train\n",
            "│   ├── Ppyoloeloss/loss_cls = 1.2874\n",
            "│   │   ├── Epoch N-1      = 1.2968 (\u001b[32m↘ -0.0093\u001b[0m)\n",
            "│   │   └── Best until now = 1.2741 (\u001b[31m↗ 0.0134\u001b[0m)\n",
            "│   ├── Ppyoloeloss/loss_iou = 0.6929\n",
            "│   │   ├── Epoch N-1      = 0.6608 (\u001b[31m↗ 0.0321\u001b[0m)\n",
            "│   │   └── Best until now = 0.6246 (\u001b[31m↗ 0.0684\u001b[0m)\n",
            "│   ├── Ppyoloeloss/loss_dfl = 0.8969\n",
            "│   │   ├── Epoch N-1      = 0.8612 (\u001b[31m↗ 0.0357\u001b[0m)\n",
            "│   │   └── Best until now = 0.8177 (\u001b[31m↗ 0.0792\u001b[0m)\n",
            "│   └── Ppyoloeloss/loss = 2.8773\n",
            "│       ├── Epoch N-1      = 2.8189 (\u001b[31m↗ 0.0584\u001b[0m)\n",
            "│       └── Best until now = 2.8189 (\u001b[31m↗ 0.0584\u001b[0m)\n",
            "└── Validation\n",
            "    ├── Ppyoloeloss/loss_cls = 661.6823\n",
            "    │   ├── Epoch N-1      = 203.9606 (\u001b[31m↗ 457.7218\u001b[0m)\n",
            "    │   └── Best until now = 0.9358 (\u001b[31m↗ 660.7464\u001b[0m)\n",
            "    ├── Ppyoloeloss/loss_iou = 1.4369\n",
            "    │   ├── Epoch N-1      = 1.782  (\u001b[32m↘ -0.3451\u001b[0m)\n",
            "    │   └── Best until now = 0.5014 (\u001b[31m↗ 0.9355\u001b[0m)\n",
            "    ├── Ppyoloeloss/loss_dfl = 5.6098\n",
            "    │   ├── Epoch N-1      = 7.2311 (\u001b[32m↘ -1.6214\u001b[0m)\n",
            "    │   └── Best until now = 0.74   (\u001b[31m↗ 4.8697\u001b[0m)\n",
            "    ├── Ppyoloeloss/loss = 668.729\n",
            "    │   ├── Epoch N-1      = 212.9737 (\u001b[31m↗ 455.7553\u001b[0m)\n",
            "    │   └── Best until now = 3.6679 (\u001b[31m↗ 665.061\u001b[0m)\n",
            "    ├── Precision@0.50 = 0.0019\n",
            "    │   ├── Epoch N-1      = 0.0011 (\u001b[32m↗ 0.0008\u001b[0m)\n",
            "    │   └── Best until now = 0.2602 (\u001b[31m↘ -0.2583\u001b[0m)\n",
            "    ├── Recall@0.50 = 0.25\n",
            "    │   ├── Epoch N-1      = 0.125  (\u001b[32m↗ 0.125\u001b[0m)\n",
            "    │   └── Best until now = 0.3125 (\u001b[31m↘ -0.0625\u001b[0m)\n",
            "    ├── Map@0.50 = 0.0014\n",
            "    │   ├── Epoch N-1      = 0.0008 (\u001b[32m↗ 0.0006\u001b[0m)\n",
            "    │   └── Best until now = 0.3995 (\u001b[31m↘ -0.3982\u001b[0m)\n",
            "    └── F1@0.50 = 0.0038\n",
            "        ├── Epoch N-1      = 0.0022 (\u001b[32m↗ 0.0016\u001b[0m)\n",
            "        └── Best until now = 0.1196 (\u001b[31m↘ -0.1158\u001b[0m)\n",
            "\n",
            "===========================================================\n"
          ]
        },
        {
          "output_type": "stream",
          "name": "stderr",
          "text": [
            "Train epoch 8: 100%|██████████| 5/5 [00:05<00:00,  1.18s/it, PPYoloELoss/loss=2.78, PPYoloELoss/loss_cls=1.27, PPYoloELoss/loss_dfl=0.864, PPYoloELoss/loss_iou=0.639, gpu_mem=5.95]\n",
            "Validating epoch 8: 100%|██████████| 1/1 [00:00<00:00,  1.85it/s]\n"
          ]
        },
        {
          "output_type": "stream",
          "name": "stdout",
          "text": [
            "===========================================================\n",
            "SUMMARY OF EPOCH 8\n",
            "├── Train\n",
            "│   ├── Ppyoloeloss/loss_cls = 1.2744\n",
            "│   │   ├── Epoch N-1      = 1.2874 (\u001b[32m↘ -0.013\u001b[0m)\n",
            "│   │   └── Best until now = 1.2741 (\u001b[31m↗ 0.0004\u001b[0m)\n",
            "│   ├── Ppyoloeloss/loss_iou = 0.6395\n",
            "│   │   ├── Epoch N-1      = 0.6929 (\u001b[32m↘ -0.0535\u001b[0m)\n",
            "│   │   └── Best until now = 0.6246 (\u001b[31m↗ 0.0149\u001b[0m)\n",
            "│   ├── Ppyoloeloss/loss_dfl = 0.8637\n",
            "│   │   ├── Epoch N-1      = 0.8969 (\u001b[32m↘ -0.0332\u001b[0m)\n",
            "│   │   └── Best until now = 0.8177 (\u001b[31m↗ 0.046\u001b[0m)\n",
            "│   └── Ppyoloeloss/loss = 2.7776\n",
            "│       ├── Epoch N-1      = 2.8773 (\u001b[32m↘ -0.0997\u001b[0m)\n",
            "│       └── Best until now = 2.8189 (\u001b[32m↘ -0.0413\u001b[0m)\n",
            "└── Validation\n",
            "    ├── Ppyoloeloss/loss_cls = 161.1541\n",
            "    │   ├── Epoch N-1      = 661.6823 (\u001b[32m↘ -500.5282\u001b[0m)\n",
            "    │   └── Best until now = 0.9358 (\u001b[31m↗ 160.2182\u001b[0m)\n",
            "    ├── Ppyoloeloss/loss_iou = 1.3595\n",
            "    │   ├── Epoch N-1      = 1.4369 (\u001b[32m↘ -0.0775\u001b[0m)\n",
            "    │   └── Best until now = 0.5014 (\u001b[31m↗ 0.858\u001b[0m)\n",
            "    ├── Ppyoloeloss/loss_dfl = 4.0239\n",
            "    │   ├── Epoch N-1      = 5.6098 (\u001b[32m↘ -1.5859\u001b[0m)\n",
            "    │   └── Best until now = 0.74   (\u001b[31m↗ 3.2839\u001b[0m)\n",
            "    ├── Ppyoloeloss/loss = 166.5374\n",
            "    │   ├── Epoch N-1      = 668.729 (\u001b[32m↘ -502.1916\u001b[0m)\n",
            "    │   └── Best until now = 3.6679 (\u001b[31m↗ 162.8695\u001b[0m)\n",
            "    ├── Precision@0.50 = 0.0029\n",
            "    │   ├── Epoch N-1      = 0.0019 (\u001b[32m↗ 0.001\u001b[0m)\n",
            "    │   └── Best until now = 0.2602 (\u001b[31m↘ -0.2573\u001b[0m)\n",
            "    ├── Recall@0.50 = 0.375\n",
            "    │   ├── Epoch N-1      = 0.25   (\u001b[32m↗ 0.125\u001b[0m)\n",
            "    │   └── Best until now = 0.3125 (\u001b[32m↗ 0.0625\u001b[0m)\n",
            "    ├── Map@0.50 = 0.0028\n",
            "    │   ├── Epoch N-1      = 0.0014 (\u001b[32m↗ 0.0015\u001b[0m)\n",
            "    │   └── Best until now = 0.3995 (\u001b[31m↘ -0.3967\u001b[0m)\n",
            "    └── F1@0.50 = 0.0058\n",
            "        ├── Epoch N-1      = 0.0038 (\u001b[32m↗ 0.002\u001b[0m)\n",
            "        └── Best until now = 0.1196 (\u001b[31m↘ -0.1138\u001b[0m)\n",
            "\n",
            "===========================================================\n"
          ]
        },
        {
          "output_type": "stream",
          "name": "stderr",
          "text": [
            "Train epoch 9: 100%|██████████| 5/5 [00:06<00:00,  1.39s/it, PPYoloELoss/loss=2.71, PPYoloELoss/loss_cls=1.25, PPYoloELoss/loss_dfl=0.855, PPYoloELoss/loss_iou=0.606, gpu_mem=5.95]\n",
            "Validating epoch 9: 100%|██████████| 1/1 [00:00<00:00,  1.70it/s]\n"
          ]
        },
        {
          "output_type": "stream",
          "name": "stdout",
          "text": [
            "===========================================================\n",
            "SUMMARY OF EPOCH 9\n",
            "├── Train\n",
            "│   ├── Ppyoloeloss/loss_cls = 1.248\n",
            "│   │   ├── Epoch N-1      = 1.2744 (\u001b[32m↘ -0.0264\u001b[0m)\n",
            "│   │   └── Best until now = 1.2741 (\u001b[32m↘ -0.0261\u001b[0m)\n",
            "│   ├── Ppyoloeloss/loss_iou = 0.6058\n",
            "│   │   ├── Epoch N-1      = 0.6395 (\u001b[32m↘ -0.0337\u001b[0m)\n",
            "│   │   └── Best until now = 0.6246 (\u001b[32m↘ -0.0188\u001b[0m)\n",
            "│   ├── Ppyoloeloss/loss_dfl = 0.8552\n",
            "│   │   ├── Epoch N-1      = 0.8637 (\u001b[32m↘ -0.0085\u001b[0m)\n",
            "│   │   └── Best until now = 0.8177 (\u001b[31m↗ 0.0375\u001b[0m)\n",
            "│   └── Ppyoloeloss/loss = 2.709\n",
            "│       ├── Epoch N-1      = 2.7776 (\u001b[32m↘ -0.0686\u001b[0m)\n",
            "│       └── Best until now = 2.7776 (\u001b[32m↘ -0.0686\u001b[0m)\n",
            "└── Validation\n",
            "    ├── Ppyoloeloss/loss_cls = 18.7049\n",
            "    │   ├── Epoch N-1      = 161.1541 (\u001b[32m↘ -142.4491\u001b[0m)\n",
            "    │   └── Best until now = 0.9358 (\u001b[31m↗ 17.7691\u001b[0m)\n",
            "    ├── Ppyoloeloss/loss_iou = 1.24\n",
            "    │   ├── Epoch N-1      = 1.3595 (\u001b[32m↘ -0.1195\u001b[0m)\n",
            "    │   └── Best until now = 0.5014 (\u001b[31m↗ 0.7386\u001b[0m)\n",
            "    ├── Ppyoloeloss/loss_dfl = 2.3269\n",
            "    │   ├── Epoch N-1      = 4.0239 (\u001b[32m↘ -1.697\u001b[0m)\n",
            "    │   └── Best until now = 0.74   (\u001b[31m↗ 1.5869\u001b[0m)\n",
            "    ├── Ppyoloeloss/loss = 22.2718\n",
            "    │   ├── Epoch N-1      = 166.5374 (\u001b[32m↘ -144.2656\u001b[0m)\n",
            "    │   └── Best until now = 3.6679 (\u001b[31m↗ 18.6039\u001b[0m)\n",
            "    ├── Precision@0.50 = 0.0031\n",
            "    │   ├── Epoch N-1      = 0.0029 (\u001b[32m↗ 0.0001\u001b[0m)\n",
            "    │   └── Best until now = 0.2602 (\u001b[31m↘ -0.2572\u001b[0m)\n",
            "    ├── Recall@0.50 = 0.3125\n",
            "    │   ├── Epoch N-1      = 0.375  (\u001b[31m↘ -0.0625\u001b[0m)\n",
            "    │   └── Best until now = 0.375  (\u001b[31m↘ -0.0625\u001b[0m)\n",
            "    ├── Map@0.50 = 0.0034\n",
            "    │   ├── Epoch N-1      = 0.0028 (\u001b[32m↗ 0.0005\u001b[0m)\n",
            "    │   └── Best until now = 0.3995 (\u001b[31m↘ -0.3962\u001b[0m)\n",
            "    └── F1@0.50 = 0.006\n",
            "        ├── Epoch N-1      = 0.0058 (\u001b[32m↗ 0.0002\u001b[0m)\n",
            "        └── Best until now = 0.1196 (\u001b[31m↘ -0.1136\u001b[0m)\n",
            "\n",
            "===========================================================\n"
          ]
        },
        {
          "output_type": "stream",
          "name": "stderr",
          "text": [
            "[2024-03-30 10:20:00] INFO - sg_trainer.py - RUNNING ADDITIONAL TEST ON THE AVERAGED MODEL...\n",
            "Validating epoch 10: 100%|██████████| 1/1 [00:00<00:00,  1.58it/s]\n"
          ]
        }
      ]
    },
    {
      "cell_type": "code",
      "source": [
        "best_model = models.get('yolo_nas_s',\n",
        "                        num_classes=len(dataset_params['classes']),\n",
        "                        checkpoint_path=\"/content/checkpoints/Detection_yolonas_practice/RUN_20240330_101712_634031/ckpt_best.pth\")"
      ],
      "metadata": {
        "colab": {
          "base_uri": "https://localhost:8080/"
        },
        "id": "Ab577C7C39RY",
        "outputId": "7da85100-dc99-4dda-c56a-3be5c45cba0a"
      },
      "execution_count": 15,
      "outputs": [
        {
          "output_type": "stream",
          "name": "stderr",
          "text": [
            "[2024-03-30 10:21:45] INFO - checkpoint_utils.py - Successfully loaded model weights from /content/checkpoints/Detection_yolonas_practice/RUN_20240330_101712_634031/ckpt_best.pth EMA checkpoint.\n"
          ]
        }
      ]
    },
    {
      "cell_type": "code",
      "source": [
        "trainer.test(model=best_model,\n",
        "             test_loader=test_data,\n",
        "             test_metrics_list=DetectionMetrics_050(score_thres=0.1,\n",
        "                                                    top_k_predictions=300,\n",
        "                                                    num_cls=len(dataset_params['classes']),\n",
        "                                                    normalize_targets=True,\n",
        "                                                    post_prediction_callback=PPYoloEPostPredictionCallback(score_threshold=0.01,\n",
        "                                                                                                           nms_top_k=1000,\n",
        "                                                                                                           max_predictions=300,\n",
        "                                                                                                           nms_threshold=0.7)\n",
        "                                                    ))"
      ],
      "metadata": {
        "colab": {
          "base_uri": "https://localhost:8080/"
        },
        "id": "pjzJ2dM44Ud1",
        "outputId": "63cea27e-5fc6-493b-e9d9-e44686a98ffd"
      },
      "execution_count": 18,
      "outputs": [
        {
          "output_type": "stream",
          "name": "stderr",
          "text": [
            "\r  0%|          | 0/1 [00:00<?, ?it/s]\rTesting:   0%|          | 0/1 [00:00<?, ?it/s]"
          ]
        },
        {
          "output_type": "execute_result",
          "data": {
            "text/plain": [
              "{'PPYoloELoss/loss_cls': 3.218451,\n",
              " 'PPYoloELoss/loss_iou': 1.049529,\n",
              " 'PPYoloELoss/loss_dfl': 1.2484246,\n",
              " 'PPYoloELoss/loss': 5.5164046,\n",
              " 'Precision@0.50': 0.004926108289510012,\n",
              " 'Recall@0.50': 0.5,\n",
              " 'mAP@0.50': 0.011166086420416832,\n",
              " 'F1@0.50': 0.009756097570061684}"
            ]
          },
          "metadata": {},
          "execution_count": 18
        }
      ]
    }
  ]
}